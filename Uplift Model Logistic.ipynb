{
 "cells": [
  {
   "cell_type": "markdown",
   "metadata": {},
   "source": [
    "## Causal Machine Learning \n",
    "### Two Models for Causal Inference"
   ]
  },
  {
   "cell_type": "markdown",
   "metadata": {},
   "source": [
    "Importing the data and the necessary libraries"
   ]
  },
  {
   "cell_type": "code",
   "execution_count": 2,
   "metadata": {},
   "outputs": [],
   "source": [
    "import polars as pl\n",
    "from sklearn.model_selection import train_test_split\n",
    "from sklearn.linear_model import LogisticRegression\n",
    "import matplotlib.pyplot as plt\n",
    "import numpy as np\n",
    "import pandas as pd\n",
    "from scipy import stats\n",
    "from sklearn.metrics import accuracy_score"
   ]
  },
  {
   "cell_type": "code",
   "execution_count": 3,
   "metadata": {},
   "outputs": [],
   "source": [
    "data = pl.read_csv(\"Vocational.csv\")"
   ]
  },
  {
   "cell_type": "markdown",
   "metadata": {},
   "source": [
    "### Exploratory Analysis\n",
    "\n",
    "First, let's take a look at the data. We will check the first few rows of the data, the data types, and the number of missing values. Then we will either tabulate or plot the distribution of the target variable."
   ]
  },
  {
   "cell_type": "code",
   "execution_count": 4,
   "metadata": {},
   "outputs": [],
   "source": [
    "df = data.drop('ind')"
   ]
  },
  {
   "cell_type": "code",
   "execution_count": 5,
   "metadata": {},
   "outputs": [
    {
     "data": {
      "text/html": [
       "<div><style>\n",
       ".dataframe > thead > tr,\n",
       ".dataframe > tbody > tr {\n",
       "  text-align: right;\n",
       "  white-space: pre-wrap;\n",
       "}\n",
       "</style>\n",
       "<small>shape: (5, 9)</small><table border=\"1\" class=\"dataframe\"><thead><tr><th>treatment</th><th>age</th><th>score</th><th>gender</th><th>experience</th><th>previous_exp</th><th>distance_majorcity</th><th>owns_motor</th><th>placement</th></tr><tr><td>i64</td><td>i64</td><td>i64</td><td>str</td><td>i64</td><td>i64</td><td>f64</td><td>i64</td><td>i64</td></tr></thead><tbody><tr><td>0</td><td>18</td><td>75</td><td>&quot;F&quot;</td><td>0</td><td>0</td><td>3.567556</td><td>1</td><td>0</td></tr><tr><td>1</td><td>19</td><td>73</td><td>&quot;M&quot;</td><td>0</td><td>0</td><td>5.726959</td><td>1</td><td>0</td></tr><tr><td>1</td><td>20</td><td>77</td><td>&quot;M&quot;</td><td>1</td><td>16</td><td>8.398042</td><td>0</td><td>1</td></tr><tr><td>0</td><td>20</td><td>71</td><td>&quot;F&quot;</td><td>0</td><td>0</td><td>4.364674</td><td>1</td><td>0</td></tr><tr><td>1</td><td>22</td><td>78</td><td>&quot;F&quot;</td><td>0</td><td>0</td><td>5.342594</td><td>1</td><td>0</td></tr></tbody></table></div>"
      ],
      "text/plain": [
       "shape: (5, 9)\n",
       "┌───────────┬─────┬───────┬────────┬───┬──────────────┬───────────────────┬────────────┬───────────┐\n",
       "│ treatment ┆ age ┆ score ┆ gender ┆ … ┆ previous_exp ┆ distance_majorcit ┆ owns_motor ┆ placement │\n",
       "│ ---       ┆ --- ┆ ---   ┆ ---    ┆   ┆ ---          ┆ y                 ┆ ---        ┆ ---       │\n",
       "│ i64       ┆ i64 ┆ i64   ┆ str    ┆   ┆ i64          ┆ ---               ┆ i64        ┆ i64       │\n",
       "│           ┆     ┆       ┆        ┆   ┆              ┆ f64               ┆            ┆           │\n",
       "╞═══════════╪═════╪═══════╪════════╪═══╪══════════════╪═══════════════════╪════════════╪═══════════╡\n",
       "│ 0         ┆ 18  ┆ 75    ┆ F      ┆ … ┆ 0            ┆ 3.567556          ┆ 1          ┆ 0         │\n",
       "│ 1         ┆ 19  ┆ 73    ┆ M      ┆ … ┆ 0            ┆ 5.726959          ┆ 1          ┆ 0         │\n",
       "│ 1         ┆ 20  ┆ 77    ┆ M      ┆ … ┆ 16           ┆ 8.398042          ┆ 0          ┆ 1         │\n",
       "│ 0         ┆ 20  ┆ 71    ┆ F      ┆ … ┆ 0            ┆ 4.364674          ┆ 1          ┆ 0         │\n",
       "│ 1         ┆ 22  ┆ 78    ┆ F      ┆ … ┆ 0            ┆ 5.342594          ┆ 1          ┆ 0         │\n",
       "└───────────┴─────┴───────┴────────┴───┴──────────────┴───────────────────┴────────────┴───────────┘"
      ]
     },
     "execution_count": 5,
     "metadata": {},
     "output_type": "execute_result"
    }
   ],
   "source": [
    "df.head()"
   ]
  },
  {
   "cell_type": "code",
   "execution_count": 6,
   "metadata": {},
   "outputs": [],
   "source": [
    "df = df.with_columns(df['placement'].cast(pl.Utf8).cast(pl.Categorical))"
   ]
  },
  {
   "cell_type": "code",
   "execution_count": 7,
   "metadata": {},
   "outputs": [
    {
     "name": "stderr",
     "output_type": "stream",
     "text": [
      "C:\\Users\\meala\\AppData\\Local\\Temp\\ipykernel_12132\\2273299425.py:1: DeprecationWarning: `count` is deprecated. It has been renamed to `len`.\n",
      "  df.group_by('treatment').count()\n"
     ]
    },
    {
     "data": {
      "text/html": [
       "<div><style>\n",
       ".dataframe > thead > tr,\n",
       ".dataframe > tbody > tr {\n",
       "  text-align: right;\n",
       "  white-space: pre-wrap;\n",
       "}\n",
       "</style>\n",
       "<small>shape: (2, 2)</small><table border=\"1\" class=\"dataframe\"><thead><tr><th>treatment</th><th>count</th></tr><tr><td>i64</td><td>u32</td></tr></thead><tbody><tr><td>1</td><td>14968</td></tr><tr><td>0</td><td>15032</td></tr></tbody></table></div>"
      ],
      "text/plain": [
       "shape: (2, 2)\n",
       "┌───────────┬───────┐\n",
       "│ treatment ┆ count │\n",
       "│ ---       ┆ ---   │\n",
       "│ i64       ┆ u32   │\n",
       "╞═══════════╪═══════╡\n",
       "│ 1         ┆ 14968 │\n",
       "│ 0         ┆ 15032 │\n",
       "└───────────┴───────┘"
      ]
     },
     "execution_count": 7,
     "metadata": {},
     "output_type": "execute_result"
    }
   ],
   "source": [
    "df.group_by('treatment').count()"
   ]
  },
  {
   "cell_type": "code",
   "execution_count": 8,
   "metadata": {},
   "outputs": [
    {
     "name": "stderr",
     "output_type": "stream",
     "text": [
      "C:\\Users\\meala\\AppData\\Local\\Temp\\ipykernel_12132\\1984130401.py:1: DeprecationWarning: `count` is deprecated. It has been renamed to `len`.\n",
      "  df.group_by('age').count()\n"
     ]
    },
    {
     "data": {
      "text/html": [
       "<div><style>\n",
       ".dataframe > thead > tr,\n",
       ".dataframe > tbody > tr {\n",
       "  text-align: right;\n",
       "  white-space: pre-wrap;\n",
       "}\n",
       "</style>\n",
       "<small>shape: (5, 2)</small><table border=\"1\" class=\"dataframe\"><thead><tr><th>age</th><th>count</th></tr><tr><td>i64</td><td>u32</td></tr></thead><tbody><tr><td>18</td><td>5910</td></tr><tr><td>22</td><td>6134</td></tr><tr><td>20</td><td>5979</td></tr><tr><td>19</td><td>5908</td></tr><tr><td>21</td><td>6069</td></tr></tbody></table></div>"
      ],
      "text/plain": [
       "shape: (5, 2)\n",
       "┌─────┬───────┐\n",
       "│ age ┆ count │\n",
       "│ --- ┆ ---   │\n",
       "│ i64 ┆ u32   │\n",
       "╞═════╪═══════╡\n",
       "│ 18  ┆ 5910  │\n",
       "│ 22  ┆ 6134  │\n",
       "│ 20  ┆ 5979  │\n",
       "│ 19  ┆ 5908  │\n",
       "│ 21  ┆ 6069  │\n",
       "└─────┴───────┘"
      ]
     },
     "execution_count": 8,
     "metadata": {},
     "output_type": "execute_result"
    }
   ],
   "source": [
    "df.group_by('age').count()"
   ]
  },
  {
   "cell_type": "code",
   "execution_count": 9,
   "metadata": {},
   "outputs": [
    {
     "data": {
      "text/plain": [
       "Text(0, 0.5, 'Frequency')"
      ]
     },
     "execution_count": 9,
     "metadata": {},
     "output_type": "execute_result"
    },
    {
     "data": {
      "image/png": "[encoded data removed]",
      "text/plain": [
       "<Figure size 640x480 with 1 Axes>"
      ]
     },
     "metadata": {},
     "output_type": "display_data"
    }
   ],
   "source": [
    "plt.hist(df['score'])\n",
    "plt.xlabel('Score')\n",
    "plt.ylabel('Frequency')"
   ]
  },
  {
   "cell_type": "code",
   "execution_count": 10,
   "metadata": {},
   "outputs": [
    {
     "data": {
      "text/plain": [
       "Text(0, 0.5, 'Frequency')"
      ]
     },
     "execution_count": 10,
     "metadata": {},
     "output_type": "execute_result"
    },
    {
     "data": {
      "image/png": "[encoded data removed]",
      "text/plain": [
       "<Figure size 640x480 with 1 Axes>"
      ]
     },
     "metadata": {},
     "output_type": "display_data"
    }
   ],
   "source": [
    "plt.hist(df['previous_exp'])\n",
    "plt.xlabel('Previous Experience')\n",
    "plt.ylabel('Frequency')"
   ]
  },
  {
   "cell_type": "markdown",
   "metadata": {},
   "source": [
    "Most of the individuals have no past experience. The one having experience is noramlly distributed."
   ]
  },
  {
   "cell_type": "code",
   "execution_count": 11,
   "metadata": {},
   "outputs": [
    {
     "data": {
      "text/plain": [
       "Text(0, 0.5, 'Frequency')"
      ]
     },
     "execution_count": 11,
     "metadata": {},
     "output_type": "execute_result"
    },
    {
     "data": {
      "image/png": "[encoded data removed]",
      "text/plain": [
       "<Figure size 640x480 with 1 Axes>"
      ]
     },
     "metadata": {},
     "output_type": "display_data"
    }
   ],
   "source": [
    "plt.hist(df['distance_majorcity'])\n",
    "plt.xlabel('Distance to Major City')\n",
    "plt.ylabel('Frequency')"
   ]
  },
  {
   "cell_type": "markdown",
   "metadata": {},
   "source": [
    "### Randomized Control Trial"
   ]
  },
  {
   "cell_type": "markdown",
   "metadata": {},
   "source": [
    "We will start with the Randomized Control Trial. We will split the data into two groups, the control group and the treatment group. We will then calculate the average of the target variable for each group. We will then calculate the average treatment effect."
   ]
  },
  {
   "cell_type": "code",
   "execution_count": 12,
   "metadata": {},
   "outputs": [],
   "source": [
    "RCT = data\n",
    "place_treat = RCT.filter(pl.col('treatment') == 1).select('placement')\n",
    "place_control = RCT.filter(pl.col('treatment') == 0).select('placement')"
   ]
  },
  {
   "cell_type": "code",
   "execution_count": 17,
   "metadata": {},
   "outputs": [
    {
     "data": {
      "text/plain": [
       "(shape: (1, 1)\n",
       " ┌───────────┐\n",
       " │ placement │\n",
       " │ ---       │\n",
       " │ f64       │\n",
       " ╞═══════════╡\n",
       " │ 0.323356  │\n",
       " └───────────┘,\n",
       " shape: (1, 1)\n",
       " ┌───────────┐\n",
       " │ placement │\n",
       " │ ---       │\n",
       " │ f64       │\n",
       " ╞═══════════╡\n",
       " │ 0.176956  │\n",
       " └───────────┘)"
      ]
     },
     "execution_count": 17,
     "metadata": {},
     "output_type": "execute_result"
    }
   ],
   "source": [
    "place_treat.mean(), place_control.mean()"
   ]
  },
  {
   "cell_type": "code",
   "execution_count": 12,
   "metadata": {},
   "outputs": [
    {
     "name": "stdout",
     "output_type": "stream",
     "text": [
      "T-statistic: [29.70663666], P-value: [3.71927462e-191]\n"
     ]
    }
   ],
   "source": [
    "t_stat, p_value = stats.ttest_ind(place_treat, place_control)\n",
    "print(f\"T-statistic: {t_stat}, P-value: {p_value}\")"
   ]
  },
  {
   "cell_type": "markdown",
   "metadata": {},
   "source": [
    "The result of the Randomized Control Trial shows significant difference between the control and treatment groups. The treatment group has a higher average target variable."
   ]
  },
  {
   "cell_type": "markdown",
   "metadata": {},
   "source": [
    "#### Proportion Tables"
   ]
  },
  {
   "cell_type": "code",
   "execution_count": 13,
   "metadata": {},
   "outputs": [
    {
     "name": "stdout",
     "output_type": "stream",
     "text": [
      "col_0      0     1\n",
      "row_0             \n",
      "0      12372  2660\n",
      "1      10128  4840\n"
     ]
    }
   ],
   "source": [
    "contingency_table = pd.crosstab(RCT['treatment'], RCT['placement'])\n",
    "\n",
    "print(contingency_table)"
   ]
  },
  {
   "cell_type": "code",
   "execution_count": 14,
   "metadata": {},
   "outputs": [
    {
     "name": "stdout",
     "output_type": "stream",
     "text": [
      "col_0       0         1\n",
      "row_0                  \n",
      "0      0.4124  0.088667\n",
      "1      0.3376  0.161333\n"
     ]
    }
   ],
   "source": [
    "# Proportion table (cell proportions)\n",
    "proportion_table = contingency_table / contingency_table.sum().sum()\n",
    "\n",
    "print(proportion_table)"
   ]
  },
  {
   "cell_type": "markdown",
   "metadata": {},
   "source": [
    "### Logistic Regression"
   ]
  },
  {
   "cell_type": "markdown",
   "metadata": {},
   "source": [
    "Now, let us make use of the logistic regression model. We will fit the model on the data and calculate the impact of each variables."
   ]
  },
  {
   "cell_type": "code",
   "execution_count": 18,
   "metadata": {},
   "outputs": [],
   "source": [
    "RCT = df.to_dummies('gender')\n",
    "RCT = RCT.drop('gender_F')"
   ]
  },
  {
   "cell_type": "code",
   "execution_count": 19,
   "metadata": {},
   "outputs": [],
   "source": [
    "X_train, X_test, y_train, y_test = train_test_split(RCT.drop('placement'), RCT['placement'], test_size=0.25, random_state=2059)"
   ]
  },
  {
   "cell_type": "code",
   "execution_count": 20,
   "metadata": {},
   "outputs": [
    {
     "name": "stderr",
     "output_type": "stream",
     "text": [
      "c:\\Users\\meala\\anaconda3\\Lib\\site-packages\\sklearn\\linear_model\\_logistic.py:458: ConvergenceWarning: lbfgs failed to converge (status=1):\n",
      "STOP: TOTAL NO. of ITERATIONS REACHED LIMIT.\n",
      "\n",
      "Increase the number of iterations (max_iter) or scale the data as shown in:\n",
      "    https://scikit-learn.org/stable/modules/preprocessing.html\n",
      "Please also refer to the documentation for alternative solver options:\n",
      "    https://scikit-learn.org/stable/modules/linear_model.html#logistic-regression\n",
      "  n_iter_i = _check_optimize_result(\n"
     ]
    },
    {
     "data": {
      "text/html": [
       "<style>#sk-container-id-1 {color: black;background-color: white;}#sk-container-id-1 pre{padding: 0;}#sk-container-id-1 div.sk-toggleable {background-color: white;}#sk-container-id-1 label.sk-toggleable__label {cursor: pointer;display: block;width: 100%;margin-bottom: 0;padding: 0.3em;box-sizing: border-box;text-align: center;}#sk-container-id-1 label.sk-toggleable__label-arrow:before {content: \"▸\";float: left;margin-right: 0.25em;color: #696969;}#sk-container-id-1 label.sk-toggleable__label-arrow:hover:before {color: black;}#sk-container-id-1 div.sk-estimator:hover label.sk-toggleable__label-arrow:before {color: black;}#sk-container-id-1 div.sk-toggleable__content {max-height: 0;max-width: 0;overflow: hidden;text-align: left;background-color: #f0f8ff;}#sk-container-id-1 div.sk-toggleable__content pre {margin: 0.2em;color: black;border-radius: 0.25em;background-color: #f0f8ff;}#sk-container-id-1 input.sk-toggleable__control:checked~div.sk-toggleable__content {max-height: 200px;max-width: 100%;overflow: auto;}#sk-container-id-1 input.sk-toggleable__control:checked~label.sk-toggleable__label-arrow:before {content: \"▾\";}#sk-container-id-1 div.sk-estimator input.sk-toggleable__control:checked~label.sk-toggleable__label {background-color: #d4ebff;}#sk-container-id-1 div.sk-label input.sk-toggleable__control:checked~label.sk-toggleable__label {background-color: #d4ebff;}#sk-container-id-1 input.sk-hidden--visually {border: 0;clip: rect(1px 1px 1px 1px);clip: rect(1px, 1px, 1px, 1px);height: 1px;margin: -1px;overflow: hidden;padding: 0;position: absolute;width: 1px;}#sk-container-id-1 div.sk-estimator {font-family: monospace;background-color: #f0f8ff;border: 1px dotted black;border-radius: 0.25em;box-sizing: border-box;margin-bottom: 0.5em;}#sk-container-id-1 div.sk-estimator:hover {background-color: #d4ebff;}#sk-container-id-1 div.sk-parallel-item::after {content: \"\";width: 100%;border-bottom: 1px solid gray;flex-grow: 1;}#sk-container-id-1 div.sk-label:hover label.sk-toggleable__label {background-color: #d4ebff;}#sk-container-id-1 div.sk-serial::before {content: \"\";position: absolute;border-left: 1px solid gray;box-sizing: border-box;top: 0;bottom: 0;left: 50%;z-index: 0;}#sk-container-id-1 div.sk-serial {display: flex;flex-direction: column;align-items: center;background-color: white;padding-right: 0.2em;padding-left: 0.2em;position: relative;}#sk-container-id-1 div.sk-item {position: relative;z-index: 1;}#sk-container-id-1 div.sk-parallel {display: flex;align-items: stretch;justify-content: center;background-color: white;position: relative;}#sk-container-id-1 div.sk-item::before, #sk-container-id-1 div.sk-parallel-item::before {content: \"\";position: absolute;border-left: 1px solid gray;box-sizing: border-box;top: 0;bottom: 0;left: 50%;z-index: -1;}#sk-container-id-1 div.sk-parallel-item {display: flex;flex-direction: column;z-index: 1;position: relative;background-color: white;}#sk-container-id-1 div.sk-parallel-item:first-child::after {align-self: flex-end;width: 50%;}#sk-container-id-1 div.sk-parallel-item:last-child::after {align-self: flex-start;width: 50%;}#sk-container-id-1 div.sk-parallel-item:only-child::after {width: 0;}#sk-container-id-1 div.sk-dashed-wrapped {border: 1px dashed gray;margin: 0 0.4em 0.5em 0.4em;box-sizing: border-box;padding-bottom: 0.4em;background-color: white;}#sk-container-id-1 div.sk-label label {font-family: monospace;font-weight: bold;display: inline-block;line-height: 1.2em;}#sk-container-id-1 div.sk-label-container {text-align: center;}#sk-container-id-1 div.sk-container {/* jupyter's `normalize.less` sets `[hidden] { display: none; }` but bootstrap.min.css set `[hidden] { display: none !important; }` so we also need the `!important` here to be able to override the default hidden behavior on the sphinx rendered scikit-learn.org. See: https://github.com/scikit-learn/scikit-learn/issues/21755 */display: inline-block !important;position: relative;}#sk-container-id-1 div.sk-text-repr-fallback {display: none;}</style><div id=\"sk-container-id-1\" class=\"sk-top-container\"><div class=\"sk-text-repr-fallback\"><pre>LogisticRegression()</pre><b>In a Jupyter environment, please rerun this cell to show the HTML representation or trust the notebook. <br />On GitHub, the HTML representation is unable to render, please try loading this page with nbviewer.org.</b></div><div class=\"sk-container\" hidden><div class=\"sk-item\"><div class=\"sk-estimator sk-toggleable\"><input class=\"sk-toggleable__control sk-hidden--visually\" id=\"sk-estimator-id-1\" type=\"checkbox\" checked><label for=\"sk-estimator-id-1\" class=\"sk-toggleable__label sk-toggleable__label-arrow\">LogisticRegression</label><div class=\"sk-toggleable__content\"><pre>LogisticRegression()</pre></div></div></div></div></div>"
      ],
      "text/plain": [
       "LogisticRegression()"
      ]
     },
     "execution_count": 20,
     "metadata": {},
     "output_type": "execute_result"
    }
   ],
   "source": [
    "logit = LogisticRegression()\n",
    "logit.fit(X_train, y_train)"
   ]
  },
  {
   "cell_type": "code",
   "execution_count": 21,
   "metadata": {},
   "outputs": [
    {
     "data": {
      "text/plain": [
       "{'Intercept': -12.820609350730596,\n",
       " 'treatment': 2.240898875247111,\n",
       " 'age': -1.427185166816914,\n",
       " 'score': 0.3674338488803168,\n",
       " 'gender_M': -0.47010902110297714,\n",
       " 'experience': 1.5432953449773852,\n",
       " 'previous_exp': 0.2416802046357105,\n",
       " 'distance_majorcity': 1.1240717590545486,\n",
       " 'owns_motor': 1.6221124999737195}"
      ]
     },
     "execution_count": 21,
     "metadata": {},
     "output_type": "execute_result"
    }
   ],
   "source": [
    "{'Intercept': logit.intercept_[0], \n",
    "              **{X_train.columns[i]: logit.coef_[0][i] for i in range(len(X_train.columns))}}\n"
   ]
  },
  {
   "cell_type": "code",
   "execution_count": 22,
   "metadata": {},
   "outputs": [
    {
     "data": {
      "text/plain": [
       "0.8988"
      ]
     },
     "execution_count": 22,
     "metadata": {},
     "output_type": "execute_result"
    }
   ],
   "source": [
    "logit.score(X_test, y_test)"
   ]
  },
  {
   "cell_type": "markdown",
   "metadata": {},
   "source": [
    "The model has a high accuracy of 0.89."
   ]
  },
  {
   "cell_type": "markdown",
   "metadata": {},
   "source": [
    "### Two Model Uplift"
   ]
  },
  {
   "cell_type": "markdown",
   "metadata": {},
   "source": [
    "Both RCT and logistic model will now be integrated. We will calculate the uplift for each individual and then calculate the average uplift."
   ]
  },
  {
   "cell_type": "code",
   "execution_count": 20,
   "metadata": {},
   "outputs": [],
   "source": [
    "treatment = RCT.filter(pl.col('treatment') == 1)\n",
    "control = RCT.filter(pl.col('treatment') == 0)"
   ]
  },
  {
   "cell_type": "markdown",
   "metadata": {},
   "source": [
    "Two different models will be trained. One will be trained only from treatment group and others will be trained from the control group. "
   ]
  },
  {
   "cell_type": "code",
   "execution_count": 21,
   "metadata": {},
   "outputs": [],
   "source": [
    "lr_treat = LogisticRegression()\n",
    "lr_control = LogisticRegression()"
   ]
  },
  {
   "cell_type": "code",
   "execution_count": 22,
   "metadata": {},
   "outputs": [
    {
     "name": "stderr",
     "output_type": "stream",
     "text": [
      "c:\\Users\\meala\\anaconda3\\Lib\\site-packages\\sklearn\\linear_model\\_logistic.py:458: ConvergenceWarning: lbfgs failed to converge (status=1):\n",
      "STOP: TOTAL NO. of ITERATIONS REACHED LIMIT.\n",
      "\n",
      "Increase the number of iterations (max_iter) or scale the data as shown in:\n",
      "    https://scikit-learn.org/stable/modules/preprocessing.html\n",
      "Please also refer to the documentation for alternative solver options:\n",
      "    https://scikit-learn.org/stable/modules/linear_model.html#logistic-regression\n",
      "  n_iter_i = _check_optimize_result(\n"
     ]
    },
    {
     "data": {
      "text/html": [
       "<style>#sk-container-id-2 {color: black;background-color: white;}#sk-container-id-2 pre{padding: 0;}#sk-container-id-2 div.sk-toggleable {background-color: white;}#sk-container-id-2 label.sk-toggleable__label {cursor: pointer;display: block;width: 100%;margin-bottom: 0;padding: 0.3em;box-sizing: border-box;text-align: center;}#sk-container-id-2 label.sk-toggleable__label-arrow:before {content: \"▸\";float: left;margin-right: 0.25em;color: #696969;}#sk-container-id-2 label.sk-toggleable__label-arrow:hover:before {color: black;}#sk-container-id-2 div.sk-estimator:hover label.sk-toggleable__label-arrow:before {color: black;}#sk-container-id-2 div.sk-toggleable__content {max-height: 0;max-width: 0;overflow: hidden;text-align: left;background-color: #f0f8ff;}#sk-container-id-2 div.sk-toggleable__content pre {margin: 0.2em;color: black;border-radius: 0.25em;background-color: #f0f8ff;}#sk-container-id-2 input.sk-toggleable__control:checked~div.sk-toggleable__content {max-height: 200px;max-width: 100%;overflow: auto;}#sk-container-id-2 input.sk-toggleable__control:checked~label.sk-toggleable__label-arrow:before {content: \"▾\";}#sk-container-id-2 div.sk-estimator input.sk-toggleable__control:checked~label.sk-toggleable__label {background-color: #d4ebff;}#sk-container-id-2 div.sk-label input.sk-toggleable__control:checked~label.sk-toggleable__label {background-color: #d4ebff;}#sk-container-id-2 input.sk-hidden--visually {border: 0;clip: rect(1px 1px 1px 1px);clip: rect(1px, 1px, 1px, 1px);height: 1px;margin: -1px;overflow: hidden;padding: 0;position: absolute;width: 1px;}#sk-container-id-2 div.sk-estimator {font-family: monospace;background-color: #f0f8ff;border: 1px dotted black;border-radius: 0.25em;box-sizing: border-box;margin-bottom: 0.5em;}#sk-container-id-2 div.sk-estimator:hover {background-color: #d4ebff;}#sk-container-id-2 div.sk-parallel-item::after {content: \"\";width: 100%;border-bottom: 1px solid gray;flex-grow: 1;}#sk-container-id-2 div.sk-label:hover label.sk-toggleable__label {background-color: #d4ebff;}#sk-container-id-2 div.sk-serial::before {content: \"\";position: absolute;border-left: 1px solid gray;box-sizing: border-box;top: 0;bottom: 0;left: 50%;z-index: 0;}#sk-container-id-2 div.sk-serial {display: flex;flex-direction: column;align-items: center;background-color: white;padding-right: 0.2em;padding-left: 0.2em;position: relative;}#sk-container-id-2 div.sk-item {position: relative;z-index: 1;}#sk-container-id-2 div.sk-parallel {display: flex;align-items: stretch;justify-content: center;background-color: white;position: relative;}#sk-container-id-2 div.sk-item::before, #sk-container-id-2 div.sk-parallel-item::before {content: \"\";position: absolute;border-left: 1px solid gray;box-sizing: border-box;top: 0;bottom: 0;left: 50%;z-index: -1;}#sk-container-id-2 div.sk-parallel-item {display: flex;flex-direction: column;z-index: 1;position: relative;background-color: white;}#sk-container-id-2 div.sk-parallel-item:first-child::after {align-self: flex-end;width: 50%;}#sk-container-id-2 div.sk-parallel-item:last-child::after {align-self: flex-start;width: 50%;}#sk-container-id-2 div.sk-parallel-item:only-child::after {width: 0;}#sk-container-id-2 div.sk-dashed-wrapped {border: 1px dashed gray;margin: 0 0.4em 0.5em 0.4em;box-sizing: border-box;padding-bottom: 0.4em;background-color: white;}#sk-container-id-2 div.sk-label label {font-family: monospace;font-weight: bold;display: inline-block;line-height: 1.2em;}#sk-container-id-2 div.sk-label-container {text-align: center;}#sk-container-id-2 div.sk-container {/* jupyter's `normalize.less` sets `[hidden] { display: none; }` but bootstrap.min.css set `[hidden] { display: none !important; }` so we also need the `!important` here to be able to override the default hidden behavior on the sphinx rendered scikit-learn.org. See: https://github.com/scikit-learn/scikit-learn/issues/21755 */display: inline-block !important;position: relative;}#sk-container-id-2 div.sk-text-repr-fallback {display: none;}</style><div id=\"sk-container-id-2\" class=\"sk-top-container\"><div class=\"sk-text-repr-fallback\"><pre>LogisticRegression()</pre><b>In a Jupyter environment, please rerun this cell to show the HTML representation or trust the notebook. <br />On GitHub, the HTML representation is unable to render, please try loading this page with nbviewer.org.</b></div><div class=\"sk-container\" hidden><div class=\"sk-item\"><div class=\"sk-estimator sk-toggleable\"><input class=\"sk-toggleable__control sk-hidden--visually\" id=\"sk-estimator-id-2\" type=\"checkbox\" checked><label for=\"sk-estimator-id-2\" class=\"sk-toggleable__label sk-toggleable__label-arrow\">LogisticRegression</label><div class=\"sk-toggleable__content\"><pre>LogisticRegression()</pre></div></div></div></div></div>"
      ],
      "text/plain": [
       "LogisticRegression()"
      ]
     },
     "execution_count": 22,
     "metadata": {},
     "output_type": "execute_result"
    }
   ],
   "source": [
    "lr_treat.fit(treatment.drop('placement','treatment'), treatment['placement'])"
   ]
  },
  {
   "cell_type": "code",
   "execution_count": 23,
   "metadata": {},
   "outputs": [
    {
     "name": "stderr",
     "output_type": "stream",
     "text": [
      "c:\\Users\\meala\\anaconda3\\Lib\\site-packages\\sklearn\\linear_model\\_logistic.py:458: ConvergenceWarning: lbfgs failed to converge (status=1):\n",
      "STOP: TOTAL NO. of ITERATIONS REACHED LIMIT.\n",
      "\n",
      "Increase the number of iterations (max_iter) or scale the data as shown in:\n",
      "    https://scikit-learn.org/stable/modules/preprocessing.html\n",
      "Please also refer to the documentation for alternative solver options:\n",
      "    https://scikit-learn.org/stable/modules/linear_model.html#logistic-regression\n",
      "  n_iter_i = _check_optimize_result(\n"
     ]
    },
    {
     "data": {
      "text/html": [
       "<style>#sk-container-id-3 {color: black;background-color: white;}#sk-container-id-3 pre{padding: 0;}#sk-container-id-3 div.sk-toggleable {background-color: white;}#sk-container-id-3 label.sk-toggleable__label {cursor: pointer;display: block;width: 100%;margin-bottom: 0;padding: 0.3em;box-sizing: border-box;text-align: center;}#sk-container-id-3 label.sk-toggleable__label-arrow:before {content: \"▸\";float: left;margin-right: 0.25em;color: #696969;}#sk-container-id-3 label.sk-toggleable__label-arrow:hover:before {color: black;}#sk-container-id-3 div.sk-estimator:hover label.sk-toggleable__label-arrow:before {color: black;}#sk-container-id-3 div.sk-toggleable__content {max-height: 0;max-width: 0;overflow: hidden;text-align: left;background-color: #f0f8ff;}#sk-container-id-3 div.sk-toggleable__content pre {margin: 0.2em;color: black;border-radius: 0.25em;background-color: #f0f8ff;}#sk-container-id-3 input.sk-toggleable__control:checked~div.sk-toggleable__content {max-height: 200px;max-width: 100%;overflow: auto;}#sk-container-id-3 input.sk-toggleable__control:checked~label.sk-toggleable__label-arrow:before {content: \"▾\";}#sk-container-id-3 div.sk-estimator input.sk-toggleable__control:checked~label.sk-toggleable__label {background-color: #d4ebff;}#sk-container-id-3 div.sk-label input.sk-toggleable__control:checked~label.sk-toggleable__label {background-color: #d4ebff;}#sk-container-id-3 input.sk-hidden--visually {border: 0;clip: rect(1px 1px 1px 1px);clip: rect(1px, 1px, 1px, 1px);height: 1px;margin: -1px;overflow: hidden;padding: 0;position: absolute;width: 1px;}#sk-container-id-3 div.sk-estimator {font-family: monospace;background-color: #f0f8ff;border: 1px dotted black;border-radius: 0.25em;box-sizing: border-box;margin-bottom: 0.5em;}#sk-container-id-3 div.sk-estimator:hover {background-color: #d4ebff;}#sk-container-id-3 div.sk-parallel-item::after {content: \"\";width: 100%;border-bottom: 1px solid gray;flex-grow: 1;}#sk-container-id-3 div.sk-label:hover label.sk-toggleable__label {background-color: #d4ebff;}#sk-container-id-3 div.sk-serial::before {content: \"\";position: absolute;border-left: 1px solid gray;box-sizing: border-box;top: 0;bottom: 0;left: 50%;z-index: 0;}#sk-container-id-3 div.sk-serial {display: flex;flex-direction: column;align-items: center;background-color: white;padding-right: 0.2em;padding-left: 0.2em;position: relative;}#sk-container-id-3 div.sk-item {position: relative;z-index: 1;}#sk-container-id-3 div.sk-parallel {display: flex;align-items: stretch;justify-content: center;background-color: white;position: relative;}#sk-container-id-3 div.sk-item::before, #sk-container-id-3 div.sk-parallel-item::before {content: \"\";position: absolute;border-left: 1px solid gray;box-sizing: border-box;top: 0;bottom: 0;left: 50%;z-index: -1;}#sk-container-id-3 div.sk-parallel-item {display: flex;flex-direction: column;z-index: 1;position: relative;background-color: white;}#sk-container-id-3 div.sk-parallel-item:first-child::after {align-self: flex-end;width: 50%;}#sk-container-id-3 div.sk-parallel-item:last-child::after {align-self: flex-start;width: 50%;}#sk-container-id-3 div.sk-parallel-item:only-child::after {width: 0;}#sk-container-id-3 div.sk-dashed-wrapped {border: 1px dashed gray;margin: 0 0.4em 0.5em 0.4em;box-sizing: border-box;padding-bottom: 0.4em;background-color: white;}#sk-container-id-3 div.sk-label label {font-family: monospace;font-weight: bold;display: inline-block;line-height: 1.2em;}#sk-container-id-3 div.sk-label-container {text-align: center;}#sk-container-id-3 div.sk-container {/* jupyter's `normalize.less` sets `[hidden] { display: none; }` but bootstrap.min.css set `[hidden] { display: none !important; }` so we also need the `!important` here to be able to override the default hidden behavior on the sphinx rendered scikit-learn.org. See: https://github.com/scikit-learn/scikit-learn/issues/21755 */display: inline-block !important;position: relative;}#sk-container-id-3 div.sk-text-repr-fallback {display: none;}</style><div id=\"sk-container-id-3\" class=\"sk-top-container\"><div class=\"sk-text-repr-fallback\"><pre>LogisticRegression()</pre><b>In a Jupyter environment, please rerun this cell to show the HTML representation or trust the notebook. <br />On GitHub, the HTML representation is unable to render, please try loading this page with nbviewer.org.</b></div><div class=\"sk-container\" hidden><div class=\"sk-item\"><div class=\"sk-estimator sk-toggleable\"><input class=\"sk-toggleable__control sk-hidden--visually\" id=\"sk-estimator-id-3\" type=\"checkbox\" checked><label for=\"sk-estimator-id-3\" class=\"sk-toggleable__label sk-toggleable__label-arrow\">LogisticRegression</label><div class=\"sk-toggleable__content\"><pre>LogisticRegression()</pre></div></div></div></div></div>"
      ],
      "text/plain": [
       "LogisticRegression()"
      ]
     },
     "execution_count": 23,
     "metadata": {},
     "output_type": "execute_result"
    }
   ],
   "source": [
    "lr_control.fit(control.drop('placement','treatment'), control['placement'])"
   ]
  },
  {
   "cell_type": "code",
   "execution_count": 24,
   "metadata": {},
   "outputs": [],
   "source": [
    "pred_treat = lr_treat.predict_proba(RCT.drop('placement','treatment'))[:, 1]\n",
    "pred_control = lr_control.predict_proba(RCT.drop('placement','treatment'))[:, 1]"
   ]
  },
  {
   "cell_type": "markdown",
   "metadata": {},
   "source": [
    "In the full dataset, we will make the prediction from the model trained from the treatment group and the control group. These two predictions will provide the scenario where in first case all individuals receives treatment and in second case no one receives treatment. "
   ]
  },
  {
   "cell_type": "code",
   "execution_count": 25,
   "metadata": {},
   "outputs": [
    {
     "data": {
      "text/html": [
       "<div><style>\n",
       ".dataframe > thead > tr,\n",
       ".dataframe > tbody > tr {\n",
       "  text-align: right;\n",
       "  white-space: pre-wrap;\n",
       "}\n",
       "</style>\n",
       "<small>shape: (10, 11)</small><table border=\"1\" class=\"dataframe\"><thead><tr><th>treatment</th><th>age</th><th>score</th><th>gender</th><th>experience</th><th>previous_exp</th><th>distance_majorcity</th><th>owns_motor</th><th>placement</th><th>pred_treat</th><th>pred_control</th></tr><tr><td>i64</td><td>i64</td><td>i64</td><td>str</td><td>i64</td><td>i64</td><td>f64</td><td>i64</td><td>cat</td><td>f64</td><td>f64</td></tr></thead><tbody><tr><td>0</td><td>18</td><td>75</td><td>&quot;F&quot;</td><td>0</td><td>0</td><td>3.567556</td><td>1</td><td>&quot;0&quot;</td><td>0.063766</td><td>0.002999</td></tr><tr><td>1</td><td>19</td><td>73</td><td>&quot;M&quot;</td><td>0</td><td>0</td><td>5.726959</td><td>1</td><td>&quot;0&quot;</td><td>0.061389</td><td>0.004802</td></tr><tr><td>1</td><td>20</td><td>77</td><td>&quot;M&quot;</td><td>1</td><td>16</td><td>8.398042</td><td>0</td><td>&quot;1&quot;</td><td>0.973788</td><td>0.835999</td></tr><tr><td>0</td><td>20</td><td>71</td><td>&quot;F&quot;</td><td>0</td><td>0</td><td>4.364674</td><td>1</td><td>&quot;0&quot;</td><td>0.00266</td><td>0.000137</td></tr><tr><td>1</td><td>22</td><td>78</td><td>&quot;F&quot;</td><td>0</td><td>0</td><td>5.342594</td><td>1</td><td>&quot;0&quot;</td><td>0.002626</td><td>0.000588</td></tr><tr><td>1</td><td>20</td><td>76</td><td>&quot;M&quot;</td><td>0</td><td>0</td><td>6.842471</td><td>0</td><td>&quot;0&quot;</td><td>0.022617</td><td>0.002578</td></tr><tr><td>1</td><td>19</td><td>78</td><td>&quot;F&quot;</td><td>0</td><td>0</td><td>3.625747</td><td>1</td><td>&quot;0&quot;</td><td>0.036458</td><td>0.003034</td></tr><tr><td>1</td><td>22</td><td>74</td><td>&quot;F&quot;</td><td>1</td><td>17</td><td>3.030775</td><td>1</td><td>&quot;0&quot;</td><td>0.023168</td><td>0.00191</td></tr><tr><td>0</td><td>19</td><td>72</td><td>&quot;F&quot;</td><td>0</td><td>0</td><td>3.267415</td><td>0</td><td>&quot;0&quot;</td><td>0.001068</td><td>0.000028</td></tr><tr><td>1</td><td>18</td><td>70</td><td>&quot;M&quot;</td><td>0</td><td>0</td><td>3.493591</td><td>1</td><td>&quot;0&quot;</td><td>0.012407</td><td>0.000346</td></tr></tbody></table></div>"
      ],
      "text/plain": [
       "shape: (10, 11)\n",
       "┌───────────┬─────┬───────┬────────┬───┬────────────┬───────────┬────────────┬──────────────┐\n",
       "│ treatment ┆ age ┆ score ┆ gender ┆ … ┆ owns_motor ┆ placement ┆ pred_treat ┆ pred_control │\n",
       "│ ---       ┆ --- ┆ ---   ┆ ---    ┆   ┆ ---        ┆ ---       ┆ ---        ┆ ---          │\n",
       "│ i64       ┆ i64 ┆ i64   ┆ str    ┆   ┆ i64        ┆ cat       ┆ f64        ┆ f64          │\n",
       "╞═══════════╪═════╪═══════╪════════╪═══╪════════════╪═══════════╪════════════╪══════════════╡\n",
       "│ 0         ┆ 18  ┆ 75    ┆ F      ┆ … ┆ 1          ┆ 0         ┆ 0.063766   ┆ 0.002999     │\n",
       "│ 1         ┆ 19  ┆ 73    ┆ M      ┆ … ┆ 1          ┆ 0         ┆ 0.061389   ┆ 0.004802     │\n",
       "│ 1         ┆ 20  ┆ 77    ┆ M      ┆ … ┆ 0          ┆ 1         ┆ 0.973788   ┆ 0.835999     │\n",
       "│ 0         ┆ 20  ┆ 71    ┆ F      ┆ … ┆ 1          ┆ 0         ┆ 0.00266    ┆ 0.000137     │\n",
       "│ 1         ┆ 22  ┆ 78    ┆ F      ┆ … ┆ 1          ┆ 0         ┆ 0.002626   ┆ 0.000588     │\n",
       "│ 1         ┆ 20  ┆ 76    ┆ M      ┆ … ┆ 0          ┆ 0         ┆ 0.022617   ┆ 0.002578     │\n",
       "│ 1         ┆ 19  ┆ 78    ┆ F      ┆ … ┆ 1          ┆ 0         ┆ 0.036458   ┆ 0.003034     │\n",
       "│ 1         ┆ 22  ┆ 74    ┆ F      ┆ … ┆ 1          ┆ 0         ┆ 0.023168   ┆ 0.00191      │\n",
       "│ 0         ┆ 19  ┆ 72    ┆ F      ┆ … ┆ 0          ┆ 0         ┆ 0.001068   ┆ 0.000028     │\n",
       "│ 1         ┆ 18  ┆ 70    ┆ M      ┆ … ┆ 1          ┆ 0         ┆ 0.012407   ┆ 0.000346     │\n",
       "└───────────┴─────┴───────┴────────┴───┴────────────┴───────────┴────────────┴──────────────┘"
      ]
     },
     "execution_count": 25,
     "metadata": {},
     "output_type": "execute_result"
    }
   ],
   "source": [
    "df = df.with_columns(\n",
    "    pl.Series(pred_treat).alias('pred_treat'),\n",
    "    pl.Series(pred_control).alias('pred_control')\n",
    ")\n",
    "df.head(10)\n"
   ]
  },
  {
   "cell_type": "markdown",
   "metadata": {},
   "source": [
    "The difference between the two predictions is the uplift."
   ]
  },
  {
   "cell_type": "code",
   "execution_count": 26,
   "metadata": {},
   "outputs": [
    {
     "data": {
      "text/html": [
       "<div><style>\n",
       ".dataframe > thead > tr,\n",
       ".dataframe > tbody > tr {\n",
       "  text-align: right;\n",
       "  white-space: pre-wrap;\n",
       "}\n",
       "</style>\n",
       "<small>shape: (5, 12)</small><table border=\"1\" class=\"dataframe\"><thead><tr><th>treatment</th><th>age</th><th>score</th><th>gender</th><th>experience</th><th>previous_exp</th><th>distance_majorcity</th><th>owns_motor</th><th>placement</th><th>pred_treat</th><th>pred_control</th><th>diff</th></tr><tr><td>i64</td><td>i64</td><td>i64</td><td>str</td><td>i64</td><td>i64</td><td>f64</td><td>i64</td><td>cat</td><td>f64</td><td>f64</td><td>f64</td></tr></thead><tbody><tr><td>0</td><td>18</td><td>75</td><td>&quot;F&quot;</td><td>0</td><td>0</td><td>3.567556</td><td>1</td><td>&quot;0&quot;</td><td>0.063766</td><td>0.002999</td><td>0.060766</td></tr><tr><td>1</td><td>19</td><td>73</td><td>&quot;M&quot;</td><td>0</td><td>0</td><td>5.726959</td><td>1</td><td>&quot;0&quot;</td><td>0.061389</td><td>0.004802</td><td>0.056587</td></tr><tr><td>1</td><td>20</td><td>77</td><td>&quot;M&quot;</td><td>1</td><td>16</td><td>8.398042</td><td>0</td><td>&quot;1&quot;</td><td>0.973788</td><td>0.835999</td><td>0.137789</td></tr><tr><td>0</td><td>20</td><td>71</td><td>&quot;F&quot;</td><td>0</td><td>0</td><td>4.364674</td><td>1</td><td>&quot;0&quot;</td><td>0.00266</td><td>0.000137</td><td>0.002522</td></tr><tr><td>1</td><td>22</td><td>78</td><td>&quot;F&quot;</td><td>0</td><td>0</td><td>5.342594</td><td>1</td><td>&quot;0&quot;</td><td>0.002626</td><td>0.000588</td><td>0.002038</td></tr></tbody></table></div>"
      ],
      "text/plain": [
       "shape: (5, 12)\n",
       "┌───────────┬─────┬───────┬────────┬───┬───────────┬────────────┬──────────────┬──────────┐\n",
       "│ treatment ┆ age ┆ score ┆ gender ┆ … ┆ placement ┆ pred_treat ┆ pred_control ┆ diff     │\n",
       "│ ---       ┆ --- ┆ ---   ┆ ---    ┆   ┆ ---       ┆ ---        ┆ ---          ┆ ---      │\n",
       "│ i64       ┆ i64 ┆ i64   ┆ str    ┆   ┆ cat       ┆ f64        ┆ f64          ┆ f64      │\n",
       "╞═══════════╪═════╪═══════╪════════╪═══╪═══════════╪════════════╪══════════════╪══════════╡\n",
       "│ 0         ┆ 18  ┆ 75    ┆ F      ┆ … ┆ 0         ┆ 0.063766   ┆ 0.002999     ┆ 0.060766 │\n",
       "│ 1         ┆ 19  ┆ 73    ┆ M      ┆ … ┆ 0         ┆ 0.061389   ┆ 0.004802     ┆ 0.056587 │\n",
       "│ 1         ┆ 20  ┆ 77    ┆ M      ┆ … ┆ 1         ┆ 0.973788   ┆ 0.835999     ┆ 0.137789 │\n",
       "│ 0         ┆ 20  ┆ 71    ┆ F      ┆ … ┆ 0         ┆ 0.00266    ┆ 0.000137     ┆ 0.002522 │\n",
       "│ 1         ┆ 22  ┆ 78    ┆ F      ┆ … ┆ 0         ┆ 0.002626   ┆ 0.000588     ┆ 0.002038 │\n",
       "└───────────┴─────┴───────┴────────┴───┴───────────┴────────────┴──────────────┴──────────┘"
      ]
     },
     "execution_count": 26,
     "metadata": {},
     "output_type": "execute_result"
    }
   ],
   "source": [
    "df = df.with_columns(\n",
    "    (pl.col('pred_treat') - pl.col('pred_control')).alias('diff')\n",
    ")\n",
    "df.head()"
   ]
  },
  {
   "cell_type": "markdown",
   "metadata": {},
   "source": [
    "All individuals will be ranked based on the uplift. This will help us to find the people who will benefit the most from the treatment. The ranking will be done in descending order and divided into 10 groups."
   ]
  },
  {
   "cell_type": "code",
   "execution_count": 27,
   "metadata": {},
   "outputs": [
    {
     "data": {
      "text/html": [
       "<div><style>\n",
       ".dataframe > thead > tr,\n",
       ".dataframe > tbody > tr {\n",
       "  text-align: right;\n",
       "  white-space: pre-wrap;\n",
       "}\n",
       "</style>\n",
       "<small>shape: (15, 13)</small><table border=\"1\" class=\"dataframe\"><thead><tr><th>treatment</th><th>age</th><th>score</th><th>gender</th><th>experience</th><th>previous_exp</th><th>distance_majorcity</th><th>owns_motor</th><th>placement</th><th>pred_treat</th><th>pred_control</th><th>diff</th><th>decile</th></tr><tr><td>i64</td><td>i64</td><td>i64</td><td>str</td><td>i64</td><td>i64</td><td>f64</td><td>i64</td><td>cat</td><td>f64</td><td>f64</td><td>f64</td><td>i64</td></tr></thead><tbody><tr><td>0</td><td>18</td><td>75</td><td>&quot;F&quot;</td><td>0</td><td>0</td><td>3.567556</td><td>1</td><td>&quot;0&quot;</td><td>0.063766</td><td>0.002999</td><td>0.060766</td><td>6</td></tr><tr><td>1</td><td>19</td><td>73</td><td>&quot;M&quot;</td><td>0</td><td>0</td><td>5.726959</td><td>1</td><td>&quot;0&quot;</td><td>0.061389</td><td>0.004802</td><td>0.056587</td><td>6</td></tr><tr><td>1</td><td>20</td><td>77</td><td>&quot;M&quot;</td><td>1</td><td>16</td><td>8.398042</td><td>0</td><td>&quot;1&quot;</td><td>0.973788</td><td>0.835999</td><td>0.137789</td><td>4</td></tr><tr><td>0</td><td>20</td><td>71</td><td>&quot;F&quot;</td><td>0</td><td>0</td><td>4.364674</td><td>1</td><td>&quot;0&quot;</td><td>0.00266</td><td>0.000137</td><td>0.002522</td><td>9</td></tr><tr><td>1</td><td>22</td><td>78</td><td>&quot;F&quot;</td><td>0</td><td>0</td><td>5.342594</td><td>1</td><td>&quot;0&quot;</td><td>0.002626</td><td>0.000588</td><td>0.002038</td><td>9</td></tr><tr><td>&hellip;</td><td>&hellip;</td><td>&hellip;</td><td>&hellip;</td><td>&hellip;</td><td>&hellip;</td><td>&hellip;</td><td>&hellip;</td><td>&hellip;</td><td>&hellip;</td><td>&hellip;</td><td>&hellip;</td><td>&hellip;</td></tr><tr><td>0</td><td>18</td><td>73</td><td>&quot;F&quot;</td><td>0</td><td>0</td><td>4.03203</td><td>1</td><td>&quot;0&quot;</td><td>0.059423</td><td>0.002394</td><td>0.057029</td><td>6</td></tr><tr><td>0</td><td>19</td><td>68</td><td>&quot;F&quot;</td><td>1</td><td>15</td><td>2.33951</td><td>1</td><td>&quot;0&quot;</td><td>0.11549</td><td>0.002077</td><td>0.113413</td><td>5</td></tr><tr><td>0</td><td>20</td><td>71</td><td>&quot;M&quot;</td><td>1</td><td>17</td><td>6.09878</td><td>1</td><td>&quot;0&quot;</td><td>0.787096</td><td>0.202383</td><td>0.584713</td><td>1</td></tr><tr><td>0</td><td>21</td><td>78</td><td>&quot;M&quot;</td><td>0</td><td>0</td><td>6.174771</td><td>1</td><td>&quot;0&quot;</td><td>0.021076</td><td>0.004945</td><td>0.016131</td><td>7</td></tr><tr><td>0</td><td>20</td><td>77</td><td>&quot;F&quot;</td><td>0</td><td>0</td><td>1.446632</td><td>1</td><td>&quot;0&quot;</td><td>0.000696</td><td>0.000043</td><td>0.000653</td><td>10</td></tr></tbody></table></div>"
      ],
      "text/plain": [
       "shape: (15, 13)\n",
       "┌───────────┬─────┬───────┬────────┬───┬────────────┬──────────────┬──────────┬────────┐\n",
       "│ treatment ┆ age ┆ score ┆ gender ┆ … ┆ pred_treat ┆ pred_control ┆ diff     ┆ decile │\n",
       "│ ---       ┆ --- ┆ ---   ┆ ---    ┆   ┆ ---        ┆ ---          ┆ ---      ┆ ---    │\n",
       "│ i64       ┆ i64 ┆ i64   ┆ str    ┆   ┆ f64        ┆ f64          ┆ f64      ┆ i64    │\n",
       "╞═══════════╪═════╪═══════╪════════╪═══╪════════════╪══════════════╪══════════╪════════╡\n",
       "│ 0         ┆ 18  ┆ 75    ┆ F      ┆ … ┆ 0.063766   ┆ 0.002999     ┆ 0.060766 ┆ 6      │\n",
       "│ 1         ┆ 19  ┆ 73    ┆ M      ┆ … ┆ 0.061389   ┆ 0.004802     ┆ 0.056587 ┆ 6      │\n",
       "│ 1         ┆ 20  ┆ 77    ┆ M      ┆ … ┆ 0.973788   ┆ 0.835999     ┆ 0.137789 ┆ 4      │\n",
       "│ 0         ┆ 20  ┆ 71    ┆ F      ┆ … ┆ 0.00266    ┆ 0.000137     ┆ 0.002522 ┆ 9      │\n",
       "│ 1         ┆ 22  ┆ 78    ┆ F      ┆ … ┆ 0.002626   ┆ 0.000588     ┆ 0.002038 ┆ 9      │\n",
       "│ …         ┆ …   ┆ …     ┆ …      ┆ … ┆ …          ┆ …            ┆ …        ┆ …      │\n",
       "│ 0         ┆ 18  ┆ 73    ┆ F      ┆ … ┆ 0.059423   ┆ 0.002394     ┆ 0.057029 ┆ 6      │\n",
       "│ 0         ┆ 19  ┆ 68    ┆ F      ┆ … ┆ 0.11549    ┆ 0.002077     ┆ 0.113413 ┆ 5      │\n",
       "│ 0         ┆ 20  ┆ 71    ┆ M      ┆ … ┆ 0.787096   ┆ 0.202383     ┆ 0.584713 ┆ 1      │\n",
       "│ 0         ┆ 21  ┆ 78    ┆ M      ┆ … ┆ 0.021076   ┆ 0.004945     ┆ 0.016131 ┆ 7      │\n",
       "│ 0         ┆ 20  ┆ 77    ┆ F      ┆ … ┆ 0.000696   ┆ 0.000043     ┆ 0.000653 ┆ 10     │\n",
       "└───────────┴─────┴───────┴────────┴───┴────────────┴──────────────┴──────────┴────────┘"
      ]
     },
     "execution_count": 27,
     "metadata": {},
     "output_type": "execute_result"
    }
   ],
   "source": [
    "# BEGIN: Create deciles based on the 'diff' column\n",
    "df = df.with_columns(\n",
    "    pl.Series(9 - pd.qcut(df['diff'].to_pandas(), 10, labels=False) + 1).alias('decile')\n",
    ")\n",
    "df.head(15)\n",
    "# END: Create deciles based on the 'diff' column"
   ]
  },
  {
   "cell_type": "code",
   "execution_count": 28,
   "metadata": {},
   "outputs": [
    {
     "data": {
      "text/html": [
       "<div><style>\n",
       ".dataframe > thead > tr,\n",
       ".dataframe > tbody > tr {\n",
       "  text-align: right;\n",
       "  white-space: pre-wrap;\n",
       "}\n",
       "</style>\n",
       "<small>shape: (15, 13)</small><table border=\"1\" class=\"dataframe\"><thead><tr><th>treatment</th><th>age</th><th>score</th><th>gender</th><th>experience</th><th>previous_exp</th><th>distance_majorcity</th><th>owns_motor</th><th>placement</th><th>pred_treat</th><th>pred_control</th><th>diff</th><th>decile</th></tr><tr><td>i64</td><td>i64</td><td>i64</td><td>str</td><td>i64</td><td>i64</td><td>f64</td><td>i64</td><td>cat</td><td>f64</td><td>f64</td><td>f64</td><td>i64</td></tr></thead><tbody><tr><td>0</td><td>20</td><td>71</td><td>&quot;M&quot;</td><td>1</td><td>17</td><td>6.09878</td><td>1</td><td>&quot;0&quot;</td><td>0.787096</td><td>0.202383</td><td>0.584713</td><td>1</td></tr><tr><td>1</td><td>20</td><td>68</td><td>&quot;F&quot;</td><td>1</td><td>21</td><td>7.719158</td><td>0</td><td>&quot;1&quot;</td><td>0.824791</td><td>0.178609</td><td>0.646181</td><td>1</td></tr><tr><td>1</td><td>18</td><td>69</td><td>&quot;M&quot;</td><td>1</td><td>18</td><td>6.455536</td><td>0</td><td>&quot;1&quot;</td><td>0.937887</td><td>0.280088</td><td>0.6578</td><td>1</td></tr><tr><td>1</td><td>21</td><td>74</td><td>&quot;F&quot;</td><td>1</td><td>23</td><td>4.513081</td><td>1</td><td>&quot;1&quot;</td><td>0.581109</td><td>0.127589</td><td>0.45352</td><td>1</td></tr><tr><td>0</td><td>18</td><td>77</td><td>&quot;F&quot;</td><td>0</td><td>0</td><td>6.925587</td><td>1</td><td>&quot;0&quot;</td><td>0.789313</td><td>0.274366</td><td>0.514946</td><td>1</td></tr><tr><td>&hellip;</td><td>&hellip;</td><td>&hellip;</td><td>&hellip;</td><td>&hellip;</td><td>&hellip;</td><td>&hellip;</td><td>&hellip;</td><td>&hellip;</td><td>&hellip;</td><td>&hellip;</td><td>&hellip;</td><td>&hellip;</td></tr><tr><td>0</td><td>20</td><td>63</td><td>&quot;M&quot;</td><td>1</td><td>19</td><td>6.401058</td><td>1</td><td>&quot;0&quot;</td><td>0.440831</td><td>0.023813</td><td>0.417018</td><td>1</td></tr><tr><td>1</td><td>19</td><td>71</td><td>&quot;F&quot;</td><td>1</td><td>29</td><td>5.606926</td><td>0</td><td>&quot;1&quot;</td><td>0.957112</td><td>0.52346</td><td>0.433652</td><td>1</td></tr><tr><td>1</td><td>18</td><td>73</td><td>&quot;F&quot;</td><td>0</td><td>0</td><td>7.176391</td><td>1</td><td>&quot;1&quot;</td><td>0.616059</td><td>0.096033</td><td>0.520026</td><td>1</td></tr><tr><td>1</td><td>20</td><td>77</td><td>&quot;M&quot;</td><td>1</td><td>19</td><td>5.924958</td><td>0</td><td>&quot;1&quot;</td><td>0.832622</td><td>0.332627</td><td>0.499994</td><td>1</td></tr><tr><td>1</td><td>19</td><td>80</td><td>&quot;M&quot;</td><td>1</td><td>16</td><td>3.084556</td><td>0</td><td>&quot;1&quot;</td><td>0.611942</td><td>0.08629</td><td>0.525652</td><td>1</td></tr></tbody></table></div>"
      ],
      "text/plain": [
       "shape: (15, 13)\n",
       "┌───────────┬─────┬───────┬────────┬───┬────────────┬──────────────┬──────────┬────────┐\n",
       "│ treatment ┆ age ┆ score ┆ gender ┆ … ┆ pred_treat ┆ pred_control ┆ diff     ┆ decile │\n",
       "│ ---       ┆ --- ┆ ---   ┆ ---    ┆   ┆ ---        ┆ ---          ┆ ---      ┆ ---    │\n",
       "│ i64       ┆ i64 ┆ i64   ┆ str    ┆   ┆ f64        ┆ f64          ┆ f64      ┆ i64    │\n",
       "╞═══════════╪═════╪═══════╪════════╪═══╪════════════╪══════════════╪══════════╪════════╡\n",
       "│ 0         ┆ 20  ┆ 71    ┆ M      ┆ … ┆ 0.787096   ┆ 0.202383     ┆ 0.584713 ┆ 1      │\n",
       "│ 1         ┆ 20  ┆ 68    ┆ F      ┆ … ┆ 0.824791   ┆ 0.178609     ┆ 0.646181 ┆ 1      │\n",
       "│ 1         ┆ 18  ┆ 69    ┆ M      ┆ … ┆ 0.937887   ┆ 0.280088     ┆ 0.6578   ┆ 1      │\n",
       "│ 1         ┆ 21  ┆ 74    ┆ F      ┆ … ┆ 0.581109   ┆ 0.127589     ┆ 0.45352  ┆ 1      │\n",
       "│ 0         ┆ 18  ┆ 77    ┆ F      ┆ … ┆ 0.789313   ┆ 0.274366     ┆ 0.514946 ┆ 1      │\n",
       "│ …         ┆ …   ┆ …     ┆ …      ┆ … ┆ …          ┆ …            ┆ …        ┆ …      │\n",
       "│ 0         ┆ 20  ┆ 63    ┆ M      ┆ … ┆ 0.440831   ┆ 0.023813     ┆ 0.417018 ┆ 1      │\n",
       "│ 1         ┆ 19  ┆ 71    ┆ F      ┆ … ┆ 0.957112   ┆ 0.52346      ┆ 0.433652 ┆ 1      │\n",
       "│ 1         ┆ 18  ┆ 73    ┆ F      ┆ … ┆ 0.616059   ┆ 0.096033     ┆ 0.520026 ┆ 1      │\n",
       "│ 1         ┆ 20  ┆ 77    ┆ M      ┆ … ┆ 0.832622   ┆ 0.332627     ┆ 0.499994 ┆ 1      │\n",
       "│ 1         ┆ 19  ┆ 80    ┆ M      ┆ … ┆ 0.611942   ┆ 0.08629      ┆ 0.525652 ┆ 1      │\n",
       "└───────────┴─────┴───────┴────────┴───┴────────────┴──────────────┴──────────┴────────┘"
      ]
     },
     "execution_count": 28,
     "metadata": {},
     "output_type": "execute_result"
    }
   ],
   "source": [
    "df = (df.sort('decile'))\n",
    "df.head(15)"
   ]
  },
  {
   "cell_type": "markdown",
   "metadata": {},
   "source": [
    "Uplift Dataset"
   ]
  },
  {
   "cell_type": "markdown",
   "metadata": {},
   "source": [
    "Now, we will find the real impact of treatment in each deciles."
   ]
  },
  {
   "cell_type": "code",
   "execution_count": 29,
   "metadata": {},
   "outputs": [
    {
     "data": {
      "text/html": [
       "<div><style>\n",
       ".dataframe > thead > tr,\n",
       ".dataframe > tbody > tr {\n",
       "  text-align: right;\n",
       "  white-space: pre-wrap;\n",
       "}\n",
       "</style>\n",
       "<small>shape: (10, 5)</small><table border=\"1\" class=\"dataframe\"><thead><tr><th>decile</th><th>treatment_count</th><th>treatment_placement</th><th>control_count</th><th>control_placement</th></tr><tr><td>i64</td><td>i64</td><td>f64</td><td>i64</td><td>f64</td></tr></thead><tbody><tr><td>1</td><td>1536</td><td>959.0</td><td>1464</td><td>317.0</td></tr><tr><td>2</td><td>1470</td><td>900.0</td><td>1530</td><td>403.0</td></tr><tr><td>3</td><td>1482</td><td>842.0</td><td>1518</td><td>408.0</td></tr><tr><td>4</td><td>1518</td><td>617.0</td><td>1482</td><td>335.0</td></tr><tr><td>5</td><td>1513</td><td>484.0</td><td>1487</td><td>311.0</td></tr><tr><td>6</td><td>1464</td><td>358.0</td><td>1536</td><td>271.0</td></tr><tr><td>7</td><td>1467</td><td>279.0</td><td>1533</td><td>239.0</td></tr><tr><td>8</td><td>1550</td><td>194.0</td><td>1450</td><td>166.0</td></tr><tr><td>9</td><td>1468</td><td>129.0</td><td>1532</td><td>143.0</td></tr><tr><td>10</td><td>1500</td><td>78.0</td><td>1500</td><td>67.0</td></tr></tbody></table></div>"
      ],
      "text/plain": [
       "shape: (10, 5)\n",
       "┌────────┬─────────────────┬─────────────────────┬───────────────┬───────────────────┐\n",
       "│ decile ┆ treatment_count ┆ treatment_placement ┆ control_count ┆ control_placement │\n",
       "│ ---    ┆ ---             ┆ ---                 ┆ ---           ┆ ---               │\n",
       "│ i64    ┆ i64             ┆ f64                 ┆ i64           ┆ f64               │\n",
       "╞════════╪═════════════════╪═════════════════════╪═══════════════╪═══════════════════╡\n",
       "│ 1      ┆ 1536            ┆ 959.0               ┆ 1464          ┆ 317.0             │\n",
       "│ 2      ┆ 1470            ┆ 900.0               ┆ 1530          ┆ 403.0             │\n",
       "│ 3      ┆ 1482            ┆ 842.0               ┆ 1518          ┆ 408.0             │\n",
       "│ 4      ┆ 1518            ┆ 617.0               ┆ 1482          ┆ 335.0             │\n",
       "│ 5      ┆ 1513            ┆ 484.0               ┆ 1487          ┆ 311.0             │\n",
       "│ 6      ┆ 1464            ┆ 358.0               ┆ 1536          ┆ 271.0             │\n",
       "│ 7      ┆ 1467            ┆ 279.0               ┆ 1533          ┆ 239.0             │\n",
       "│ 8      ┆ 1550            ┆ 194.0               ┆ 1450          ┆ 166.0             │\n",
       "│ 9      ┆ 1468            ┆ 129.0               ┆ 1532          ┆ 143.0             │\n",
       "│ 10     ┆ 1500            ┆ 78.0                ┆ 1500          ┆ 67.0              │\n",
       "└────────┴─────────────────┴─────────────────────┴───────────────┴───────────────────┘"
      ]
     },
     "execution_count": 29,
     "metadata": {},
     "output_type": "execute_result"
    }
   ],
   "source": [
    "uplift = df.group_by('decile').agg(\n",
    "    pl.col('treatment').sum().alias('treatment_count'),\n",
    "    (pl.col('treatment') * pl.col('placement').cast(pl.Float64)).sum().alias('treatment_placement'),\n",
    "    (1-pl.col('treatment')).sum().alias('control_count'),\n",
    "    ((1-pl.col('treatment')) * pl.col('placement').cast(pl.Float64)).sum().alias('control_placement')\n",
    ")\n",
    "uplift.sort('decile')\n",
    "\n"
   ]
  },
  {
   "cell_type": "markdown",
   "metadata": {},
   "source": [
    "Uplift Cumulative Dataset"
   ]
  },
  {
   "cell_type": "markdown",
   "metadata": {},
   "source": [
    "It can also be cumulated of each deciles."
   ]
  },
  {
   "cell_type": "code",
   "execution_count": 32,
   "metadata": {},
   "outputs": [
    {
     "data": {
      "text/html": [
       "<div><style>\n",
       ".dataframe > thead > tr,\n",
       ".dataframe > tbody > tr {\n",
       "  text-align: right;\n",
       "  white-space: pre-wrap;\n",
       "}\n",
       "</style>\n",
       "<small>shape: (10, 9)</small><table border=\"1\" class=\"dataframe\"><thead><tr><th>decile</th><th>treatment_count</th><th>treatment_placement</th><th>control_count</th><th>control_placement</th><th>treatment_count_cumulative</th><th>treatment_placement_cumulative</th><th>control_count_cumulative</th><th>control_placement_cumulative</th></tr><tr><td>i64</td><td>i64</td><td>f64</td><td>i64</td><td>f64</td><td>i64</td><td>f64</td><td>i64</td><td>f64</td></tr></thead><tbody><tr><td>1</td><td>1536</td><td>959.0</td><td>1464</td><td>317.0</td><td>1536</td><td>959.0</td><td>1464</td><td>317.0</td></tr><tr><td>2</td><td>1470</td><td>900.0</td><td>1530</td><td>403.0</td><td>3006</td><td>1859.0</td><td>2994</td><td>720.0</td></tr><tr><td>3</td><td>1482</td><td>842.0</td><td>1518</td><td>408.0</td><td>4488</td><td>2701.0</td><td>4512</td><td>1128.0</td></tr><tr><td>4</td><td>1518</td><td>617.0</td><td>1482</td><td>335.0</td><td>6006</td><td>3318.0</td><td>5994</td><td>1463.0</td></tr><tr><td>5</td><td>1513</td><td>484.0</td><td>1487</td><td>311.0</td><td>7519</td><td>3802.0</td><td>7481</td><td>1774.0</td></tr><tr><td>6</td><td>1464</td><td>358.0</td><td>1536</td><td>271.0</td><td>8983</td><td>4160.0</td><td>9017</td><td>2045.0</td></tr><tr><td>7</td><td>1467</td><td>279.0</td><td>1533</td><td>239.0</td><td>10450</td><td>4439.0</td><td>10550</td><td>2284.0</td></tr><tr><td>8</td><td>1550</td><td>194.0</td><td>1450</td><td>166.0</td><td>12000</td><td>4633.0</td><td>12000</td><td>2450.0</td></tr><tr><td>9</td><td>1468</td><td>129.0</td><td>1532</td><td>143.0</td><td>13468</td><td>4762.0</td><td>13532</td><td>2593.0</td></tr><tr><td>10</td><td>1500</td><td>78.0</td><td>1500</td><td>67.0</td><td>14968</td><td>4840.0</td><td>15032</td><td>2660.0</td></tr></tbody></table></div>"
      ],
      "text/plain": [
       "shape: (10, 9)\n",
       "┌────────┬────────────┬────────────┬───────────┬───┬───────────┬───────────┬───────────┬───────────┐\n",
       "│ decile ┆ treatment_ ┆ treatment_ ┆ control_c ┆ … ┆ treatment ┆ treatment ┆ control_c ┆ control_p │\n",
       "│ ---    ┆ count      ┆ placement  ┆ ount      ┆   ┆ _count_cu ┆ _placemen ┆ ount_cumu ┆ lacement_ │\n",
       "│ i64    ┆ ---        ┆ ---        ┆ ---       ┆   ┆ mulative  ┆ t_cumulat ┆ lative    ┆ cumulativ │\n",
       "│        ┆ i64        ┆ f64        ┆ i64       ┆   ┆ ---       ┆ ive       ┆ ---       ┆ e         │\n",
       "│        ┆            ┆            ┆           ┆   ┆ i64       ┆ ---       ┆ i64       ┆ ---       │\n",
       "│        ┆            ┆            ┆           ┆   ┆           ┆ f64       ┆           ┆ f64       │\n",
       "╞════════╪════════════╪════════════╪═══════════╪═══╪═══════════╪═══════════╪═══════════╪═══════════╡\n",
       "│ 1      ┆ 1536       ┆ 959.0      ┆ 1464      ┆ … ┆ 1536      ┆ 959.0     ┆ 1464      ┆ 317.0     │\n",
       "│ 2      ┆ 1470       ┆ 900.0      ┆ 1530      ┆ … ┆ 3006      ┆ 1859.0    ┆ 2994      ┆ 720.0     │\n",
       "│ 3      ┆ 1482       ┆ 842.0      ┆ 1518      ┆ … ┆ 4488      ┆ 2701.0    ┆ 4512      ┆ 1128.0    │\n",
       "│ 4      ┆ 1518       ┆ 617.0      ┆ 1482      ┆ … ┆ 6006      ┆ 3318.0    ┆ 5994      ┆ 1463.0    │\n",
       "│ 5      ┆ 1513       ┆ 484.0      ┆ 1487      ┆ … ┆ 7519      ┆ 3802.0    ┆ 7481      ┆ 1774.0    │\n",
       "│ 6      ┆ 1464       ┆ 358.0      ┆ 1536      ┆ … ┆ 8983      ┆ 4160.0    ┆ 9017      ┆ 2045.0    │\n",
       "│ 7      ┆ 1467       ┆ 279.0      ┆ 1533      ┆ … ┆ 10450     ┆ 4439.0    ┆ 10550     ┆ 2284.0    │\n",
       "│ 8      ┆ 1550       ┆ 194.0      ┆ 1450      ┆ … ┆ 12000     ┆ 4633.0    ┆ 12000     ┆ 2450.0    │\n",
       "│ 9      ┆ 1468       ┆ 129.0      ┆ 1532      ┆ … ┆ 13468     ┆ 4762.0    ┆ 13532     ┆ 2593.0    │\n",
       "│ 10     ┆ 1500       ┆ 78.0       ┆ 1500      ┆ … ┆ 14968     ┆ 4840.0    ┆ 15032     ┆ 2660.0    │\n",
       "└────────┴────────────┴────────────┴───────────┴───┴───────────┴───────────┴───────────┴───────────┘"
      ]
     },
     "execution_count": 32,
     "metadata": {},
     "output_type": "execute_result"
    }
   ],
   "source": [
    "uplift_cumulative = uplift\n",
    "\n",
    "uplift_cumulative = uplift_cumulative.with_columns(\n",
    "    pl.col('treatment_count').cum_sum().alias('treatment_count_cumulative'),\n",
    "    pl.col('treatment_placement').cum_sum().alias('treatment_placement_cumulative'),\n",
    "    pl.col('control_count').cum_sum().alias('control_count_cumulative'),\n",
    "    pl.col('control_placement').cum_sum().alias('control_placement_cumulative'))\n",
    "\n",
    "uplift_cumulative\n"
   ]
  },
  {
   "cell_type": "code",
   "execution_count": 33,
   "metadata": {},
   "outputs": [
    {
     "data": {
      "text/html": [
       "<div><style>\n",
       ".dataframe > thead > tr,\n",
       ".dataframe > tbody > tr {\n",
       "  text-align: right;\n",
       "  white-space: pre-wrap;\n",
       "}\n",
       "</style>\n",
       "<small>shape: (10, 5)</small><table border=\"1\" class=\"dataframe\"><thead><tr><th>decile</th><th>treatment_count_cumulative</th><th>treatment_placement_cumulative</th><th>control_count_cumulative</th><th>control_placement_cumulative</th></tr><tr><td>i64</td><td>i64</td><td>f64</td><td>i64</td><td>f64</td></tr></thead><tbody><tr><td>1</td><td>1536</td><td>959.0</td><td>1464</td><td>317.0</td></tr><tr><td>2</td><td>3006</td><td>1859.0</td><td>2994</td><td>720.0</td></tr><tr><td>3</td><td>4488</td><td>2701.0</td><td>4512</td><td>1128.0</td></tr><tr><td>4</td><td>6006</td><td>3318.0</td><td>5994</td><td>1463.0</td></tr><tr><td>5</td><td>7519</td><td>3802.0</td><td>7481</td><td>1774.0</td></tr><tr><td>6</td><td>8983</td><td>4160.0</td><td>9017</td><td>2045.0</td></tr><tr><td>7</td><td>10450</td><td>4439.0</td><td>10550</td><td>2284.0</td></tr><tr><td>8</td><td>12000</td><td>4633.0</td><td>12000</td><td>2450.0</td></tr><tr><td>9</td><td>13468</td><td>4762.0</td><td>13532</td><td>2593.0</td></tr><tr><td>10</td><td>14968</td><td>4840.0</td><td>15032</td><td>2660.0</td></tr></tbody></table></div>"
      ],
      "text/plain": [
       "shape: (10, 5)\n",
       "┌────────┬──────────────────────┬──────────────────────┬─────────────────────┬─────────────────────┐\n",
       "│ decile ┆ treatment_count_cumu ┆ treatment_placement_ ┆ control_count_cumul ┆ control_placement_c │\n",
       "│ ---    ┆ lative               ┆ cumulative           ┆ ative               ┆ umulative           │\n",
       "│ i64    ┆ ---                  ┆ ---                  ┆ ---                 ┆ ---                 │\n",
       "│        ┆ i64                  ┆ f64                  ┆ i64                 ┆ f64                 │\n",
       "╞════════╪══════════════════════╪══════════════════════╪═════════════════════╪═════════════════════╡\n",
       "│ 1      ┆ 1536                 ┆ 959.0                ┆ 1464                ┆ 317.0               │\n",
       "│ 2      ┆ 3006                 ┆ 1859.0               ┆ 2994                ┆ 720.0               │\n",
       "│ 3      ┆ 4488                 ┆ 2701.0               ┆ 4512                ┆ 1128.0              │\n",
       "│ 4      ┆ 6006                 ┆ 3318.0               ┆ 5994                ┆ 1463.0              │\n",
       "│ 5      ┆ 7519                 ┆ 3802.0               ┆ 7481                ┆ 1774.0              │\n",
       "│ 6      ┆ 8983                 ┆ 4160.0               ┆ 9017                ┆ 2045.0              │\n",
       "│ 7      ┆ 10450                ┆ 4439.0               ┆ 10550               ┆ 2284.0              │\n",
       "│ 8      ┆ 12000                ┆ 4633.0               ┆ 12000               ┆ 2450.0              │\n",
       "│ 9      ┆ 13468                ┆ 4762.0               ┆ 13532               ┆ 2593.0              │\n",
       "│ 10     ┆ 14968                ┆ 4840.0               ┆ 15032               ┆ 2660.0              │\n",
       "└────────┴──────────────────────┴──────────────────────┴─────────────────────┴─────────────────────┘"
      ]
     },
     "execution_count": 33,
     "metadata": {},
     "output_type": "execute_result"
    }
   ],
   "source": [
    "uplift_cumulative = uplift_cumulative.select(\n",
    "    pl.col('decile'),\n",
    "    pl.col('treatment_count_cumulative'),\n",
    "    pl.col('treatment_placement_cumulative'),\n",
    "    pl.col('control_count_cumulative'),\n",
    "    pl.col('control_placement_cumulative')\n",
    ")\n",
    "\n",
    "uplift_cumulative"
   ]
  },
  {
   "cell_type": "markdown",
   "metadata": {},
   "source": [
    "Uplift Average Effect"
   ]
  },
  {
   "cell_type": "code",
   "execution_count": 34,
   "metadata": {},
   "outputs": [
    {
     "data": {
      "text/html": [
       "<div><style>\n",
       ".dataframe > thead > tr,\n",
       ".dataframe > tbody > tr {\n",
       "  text-align: right;\n",
       "  white-space: pre-wrap;\n",
       "}\n",
       "</style>\n",
       "<small>shape: (10, 5)</small><table border=\"1\" class=\"dataframe\"><thead><tr><th>decile</th><th>treatment_count</th><th>treatment_placement</th><th>control_count</th><th>control_placement</th></tr><tr><td>i64</td><td>i64</td><td>f64</td><td>i64</td><td>f64</td></tr></thead><tbody><tr><td>1</td><td>1536</td><td>959.0</td><td>1464</td><td>317.0</td></tr><tr><td>2</td><td>1470</td><td>900.0</td><td>1530</td><td>403.0</td></tr><tr><td>3</td><td>1482</td><td>842.0</td><td>1518</td><td>408.0</td></tr><tr><td>4</td><td>1518</td><td>617.0</td><td>1482</td><td>335.0</td></tr><tr><td>5</td><td>1513</td><td>484.0</td><td>1487</td><td>311.0</td></tr><tr><td>6</td><td>1464</td><td>358.0</td><td>1536</td><td>271.0</td></tr><tr><td>7</td><td>1467</td><td>279.0</td><td>1533</td><td>239.0</td></tr><tr><td>8</td><td>1550</td><td>194.0</td><td>1450</td><td>166.0</td></tr><tr><td>9</td><td>1468</td><td>129.0</td><td>1532</td><td>143.0</td></tr><tr><td>10</td><td>1500</td><td>78.0</td><td>1500</td><td>67.0</td></tr></tbody></table></div>"
      ],
      "text/plain": [
       "shape: (10, 5)\n",
       "┌────────┬─────────────────┬─────────────────────┬───────────────┬───────────────────┐\n",
       "│ decile ┆ treatment_count ┆ treatment_placement ┆ control_count ┆ control_placement │\n",
       "│ ---    ┆ ---             ┆ ---                 ┆ ---           ┆ ---               │\n",
       "│ i64    ┆ i64             ┆ f64                 ┆ i64           ┆ f64               │\n",
       "╞════════╪═════════════════╪═════════════════════╪═══════════════╪═══════════════════╡\n",
       "│ 1      ┆ 1536            ┆ 959.0               ┆ 1464          ┆ 317.0             │\n",
       "│ 2      ┆ 1470            ┆ 900.0               ┆ 1530          ┆ 403.0             │\n",
       "│ 3      ┆ 1482            ┆ 842.0               ┆ 1518          ┆ 408.0             │\n",
       "│ 4      ┆ 1518            ┆ 617.0               ┆ 1482          ┆ 335.0             │\n",
       "│ 5      ┆ 1513            ┆ 484.0               ┆ 1487          ┆ 311.0             │\n",
       "│ 6      ┆ 1464            ┆ 358.0               ┆ 1536          ┆ 271.0             │\n",
       "│ 7      ┆ 1467            ┆ 279.0               ┆ 1533          ┆ 239.0             │\n",
       "│ 8      ┆ 1550            ┆ 194.0               ┆ 1450          ┆ 166.0             │\n",
       "│ 9      ┆ 1468            ┆ 129.0               ┆ 1532          ┆ 143.0             │\n",
       "│ 10     ┆ 1500            ┆ 78.0                ┆ 1500          ┆ 67.0              │\n",
       "└────────┴─────────────────┴─────────────────────┴───────────────┴───────────────────┘"
      ]
     },
     "execution_count": 34,
     "metadata": {},
     "output_type": "execute_result"
    }
   ],
   "source": [
    "uplift"
   ]
  },
  {
   "cell_type": "code",
   "execution_count": 36,
   "metadata": {},
   "outputs": [
    {
     "data": {
      "text/html": [
       "<div><style>\n",
       ".dataframe > thead > tr,\n",
       ".dataframe > tbody > tr {\n",
       "  text-align: right;\n",
       "  white-space: pre-wrap;\n",
       "}\n",
       "</style>\n",
       "<small>shape: (10, 6)</small><table border=\"1\" class=\"dataframe\"><thead><tr><th>decile</th><th>treatment_count</th><th>treatment_placement</th><th>control_count</th><th>control_placement</th><th>uplift</th></tr><tr><td>i64</td><td>i64</td><td>f64</td><td>i64</td><td>f64</td><td>f64</td></tr></thead><tbody><tr><td>1</td><td>1536</td><td>959.0</td><td>1464</td><td>317.0</td><td>40.78189</td></tr><tr><td>2</td><td>1470</td><td>900.0</td><td>1530</td><td>403.0</td><td>34.884621</td></tr><tr><td>3</td><td>1482</td><td>842.0</td><td>1518</td><td>408.0</td><td>29.937644</td></tr><tr><td>4</td><td>1518</td><td>617.0</td><td>1482</td><td>335.0</td><td>18.040998</td></tr><tr><td>5</td><td>1513</td><td>484.0</td><td>1487</td><td>311.0</td><td>11.074832</td></tr><tr><td>6</td><td>1464</td><td>358.0</td><td>1536</td><td>271.0</td><td>6.810323</td></tr><tr><td>7</td><td>1467</td><td>279.0</td><td>1533</td><td>239.0</td><td>3.428059</td></tr><tr><td>8</td><td>1550</td><td>194.0</td><td>1450</td><td>166.0</td><td>1.067853</td></tr><tr><td>9</td><td>1468</td><td>129.0</td><td>1532</td><td>143.0</td><td>-0.546738</td></tr><tr><td>10</td><td>1500</td><td>78.0</td><td>1500</td><td>67.0</td><td>0.733333</td></tr></tbody></table></div>"
      ],
      "text/plain": [
       "shape: (10, 6)\n",
       "┌────────┬─────────────────┬─────────────────────┬───────────────┬───────────────────┬───────────┐\n",
       "│ decile ┆ treatment_count ┆ treatment_placement ┆ control_count ┆ control_placement ┆ uplift    │\n",
       "│ ---    ┆ ---             ┆ ---                 ┆ ---           ┆ ---               ┆ ---       │\n",
       "│ i64    ┆ i64             ┆ f64                 ┆ i64           ┆ f64               ┆ f64       │\n",
       "╞════════╪═════════════════╪═════════════════════╪═══════════════╪═══════════════════╪═══════════╡\n",
       "│ 1      ┆ 1536            ┆ 959.0               ┆ 1464          ┆ 317.0             ┆ 40.78189  │\n",
       "│ 2      ┆ 1470            ┆ 900.0               ┆ 1530          ┆ 403.0             ┆ 34.884621 │\n",
       "│ 3      ┆ 1482            ┆ 842.0               ┆ 1518          ┆ 408.0             ┆ 29.937644 │\n",
       "│ 4      ┆ 1518            ┆ 617.0               ┆ 1482          ┆ 335.0             ┆ 18.040998 │\n",
       "│ 5      ┆ 1513            ┆ 484.0               ┆ 1487          ┆ 311.0             ┆ 11.074832 │\n",
       "│ 6      ┆ 1464            ┆ 358.0               ┆ 1536          ┆ 271.0             ┆ 6.810323  │\n",
       "│ 7      ┆ 1467            ┆ 279.0               ┆ 1533          ┆ 239.0             ┆ 3.428059  │\n",
       "│ 8      ┆ 1550            ┆ 194.0               ┆ 1450          ┆ 166.0             ┆ 1.067853  │\n",
       "│ 9      ┆ 1468            ┆ 129.0               ┆ 1532          ┆ 143.0             ┆ -0.546738 │\n",
       "│ 10     ┆ 1500            ┆ 78.0                ┆ 1500          ┆ 67.0              ┆ 0.733333  │\n",
       "└────────┴─────────────────┴─────────────────────┴───────────────┴───────────────────┴───────────┘"
      ]
     },
     "execution_count": 36,
     "metadata": {},
     "output_type": "execute_result"
    }
   ],
   "source": [
    "uplift = uplift.with_columns(\n",
    "   ( (pl.col('treatment_placement')/ pl.col('treatment_count') - pl.col('control_placement')/ pl.col('control_count')) *100).alias('uplift')\n",
    ")\n",
    "uplift"
   ]
  },
  {
   "cell_type": "code",
   "execution_count": 42,
   "metadata": {},
   "outputs": [
    {
     "data": {
      "image/png": "[encoded data removed]",
      "text/plain": [
       "<Figure size 640x480 with 1 Axes>"
      ]
     },
     "metadata": {},
     "output_type": "display_data"
    }
   ],
   "source": [
    "\n",
    "plt.bar(uplift['decile'].cast(pl.Utf8).cast(pl.Categorical), uplift['uplift'])\n",
    "plt.xlabel('Decile')\n",
    "plt.ylabel('Uplift')\n",
    "plt.title('Uplift by Decile')\n",
    "deciles = uplift['decile'].to_list()\n",
    "uplift_values = uplift['uplift'].to_list()\n",
    "for i, value in enumerate(uplift_values):\n",
    "    plt.text(i, value, f'{value:.2f}', ha='center', va='bottom')\n",
    "plt.show()"
   ]
  },
  {
   "cell_type": "markdown",
   "metadata": {},
   "source": [
    "Cumulative Uplift Effect"
   ]
  },
  {
   "cell_type": "code",
   "execution_count": 43,
   "metadata": {},
   "outputs": [
    {
     "data": {
      "text/html": [
       "<div><style>\n",
       ".dataframe > thead > tr,\n",
       ".dataframe > tbody > tr {\n",
       "  text-align: right;\n",
       "  white-space: pre-wrap;\n",
       "}\n",
       "</style>\n",
       "<small>shape: (10, 5)</small><table border=\"1\" class=\"dataframe\"><thead><tr><th>decile</th><th>treatment_count_cumulative</th><th>treatment_placement_cumulative</th><th>control_count_cumulative</th><th>control_placement_cumulative</th></tr><tr><td>i64</td><td>i64</td><td>f64</td><td>i64</td><td>f64</td></tr></thead><tbody><tr><td>1</td><td>1536</td><td>959.0</td><td>1464</td><td>317.0</td></tr><tr><td>2</td><td>3006</td><td>1859.0</td><td>2994</td><td>720.0</td></tr><tr><td>3</td><td>4488</td><td>2701.0</td><td>4512</td><td>1128.0</td></tr><tr><td>4</td><td>6006</td><td>3318.0</td><td>5994</td><td>1463.0</td></tr><tr><td>5</td><td>7519</td><td>3802.0</td><td>7481</td><td>1774.0</td></tr><tr><td>6</td><td>8983</td><td>4160.0</td><td>9017</td><td>2045.0</td></tr><tr><td>7</td><td>10450</td><td>4439.0</td><td>10550</td><td>2284.0</td></tr><tr><td>8</td><td>12000</td><td>4633.0</td><td>12000</td><td>2450.0</td></tr><tr><td>9</td><td>13468</td><td>4762.0</td><td>13532</td><td>2593.0</td></tr><tr><td>10</td><td>14968</td><td>4840.0</td><td>15032</td><td>2660.0</td></tr></tbody></table></div>"
      ],
      "text/plain": [
       "shape: (10, 5)\n",
       "┌────────┬──────────────────────┬──────────────────────┬─────────────────────┬─────────────────────┐\n",
       "│ decile ┆ treatment_count_cumu ┆ treatment_placement_ ┆ control_count_cumul ┆ control_placement_c │\n",
       "│ ---    ┆ lative               ┆ cumulative           ┆ ative               ┆ umulative           │\n",
       "│ i64    ┆ ---                  ┆ ---                  ┆ ---                 ┆ ---                 │\n",
       "│        ┆ i64                  ┆ f64                  ┆ i64                 ┆ f64                 │\n",
       "╞════════╪══════════════════════╪══════════════════════╪═════════════════════╪═════════════════════╡\n",
       "│ 1      ┆ 1536                 ┆ 959.0                ┆ 1464                ┆ 317.0               │\n",
       "│ 2      ┆ 3006                 ┆ 1859.0               ┆ 2994                ┆ 720.0               │\n",
       "│ 3      ┆ 4488                 ┆ 2701.0               ┆ 4512                ┆ 1128.0              │\n",
       "│ 4      ┆ 6006                 ┆ 3318.0               ┆ 5994                ┆ 1463.0              │\n",
       "│ 5      ┆ 7519                 ┆ 3802.0               ┆ 7481                ┆ 1774.0              │\n",
       "│ 6      ┆ 8983                 ┆ 4160.0               ┆ 9017                ┆ 2045.0              │\n",
       "│ 7      ┆ 10450                ┆ 4439.0               ┆ 10550               ┆ 2284.0              │\n",
       "│ 8      ┆ 12000                ┆ 4633.0               ┆ 12000               ┆ 2450.0              │\n",
       "│ 9      ┆ 13468                ┆ 4762.0               ┆ 13532               ┆ 2593.0              │\n",
       "│ 10     ┆ 14968                ┆ 4840.0               ┆ 15032               ┆ 2660.0              │\n",
       "└────────┴──────────────────────┴──────────────────────┴─────────────────────┴─────────────────────┘"
      ]
     },
     "execution_count": 43,
     "metadata": {},
     "output_type": "execute_result"
    }
   ],
   "source": [
    "uplift_cumulative"
   ]
  },
  {
   "cell_type": "code",
   "execution_count": 45,
   "metadata": {},
   "outputs": [
    {
     "data": {
      "text/html": [
       "<div><style>\n",
       ".dataframe > thead > tr,\n",
       ".dataframe > tbody > tr {\n",
       "  text-align: right;\n",
       "  white-space: pre-wrap;\n",
       "}\n",
       "</style>\n",
       "<small>shape: (10, 7)</small><table border=\"1\" class=\"dataframe\"><thead><tr><th>decile</th><th>treatment_count_cumulative</th><th>treatment_placement_cumulative</th><th>control_count_cumulative</th><th>control_placement_cumulative</th><th>uplift_cumulative</th><th>uplift_cumulative_percent</th></tr><tr><td>i64</td><td>i64</td><td>f64</td><td>i64</td><td>f64</td><td>f64</td><td>f64</td></tr></thead><tbody><tr><td>1</td><td>1536</td><td>959.0</td><td>1464</td><td>317.0</td><td>626.409836</td><td>0.758586</td></tr><tr><td>2</td><td>3006</td><td>1859.0</td><td>2994</td><td>720.0</td><td>1136.114228</td><td>1.375841</td></tr><tr><td>3</td><td>4488</td><td>2701.0</td><td>4512</td><td>1128.0</td><td>1579.0</td><td>1.912178</td></tr><tr><td>4</td><td>6006</td><td>3318.0</td><td>5994</td><td>1463.0</td><td>1852.071071</td><td>2.242868</td></tr><tr><td>5</td><td>7519</td><td>3802.0</td><td>7481</td><td>1774.0</td><td>2018.988905</td><td>2.445007</td></tr><tr><td>6</td><td>8983</td><td>4160.0</td><td>9017</td><td>2045.0</td><td>2122.71099</td><td>2.570615</td></tr><tr><td>7</td><td>10450</td><td>4439.0</td><td>10550</td><td>2284.0</td><td>2176.649289</td><td>2.635935</td></tr><tr><td>8</td><td>12000</td><td>4633.0</td><td>12000</td><td>2450.0</td><td>2183.0</td><td>2.643625</td></tr><tr><td>9</td><td>13468</td><td>4762.0</td><td>13532</td><td>2593.0</td><td>2181.263671</td><td>2.641523</td></tr><tr><td>10</td><td>14968</td><td>4840.0</td><td>15032</td><td>2660.0</td><td>2191.325173</td><td>2.653707</td></tr></tbody></table></div>"
      ],
      "text/plain": [
       "shape: (10, 7)\n",
       "┌────────┬──────────────┬──────────────┬──────────────┬──────────────┬──────────────┬──────────────┐\n",
       "│ decile ┆ treatment_co ┆ treatment_pl ┆ control_coun ┆ control_plac ┆ uplift_cumul ┆ uplift_cumul │\n",
       "│ ---    ┆ unt_cumulati ┆ acement_cumu ┆ t_cumulative ┆ ement_cumula ┆ ative        ┆ ative_percen │\n",
       "│ i64    ┆ ve           ┆ lative       ┆ ---          ┆ tive         ┆ ---          ┆ t            │\n",
       "│        ┆ ---          ┆ ---          ┆ i64          ┆ ---          ┆ f64          ┆ ---          │\n",
       "│        ┆ i64          ┆ f64          ┆              ┆ f64          ┆              ┆ f64          │\n",
       "╞════════╪══════════════╪══════════════╪══════════════╪══════════════╪══════════════╪══════════════╡\n",
       "│ 1      ┆ 1536         ┆ 959.0        ┆ 1464         ┆ 317.0        ┆ 626.409836   ┆ 0.758586     │\n",
       "│ 2      ┆ 3006         ┆ 1859.0       ┆ 2994         ┆ 720.0        ┆ 1136.114228  ┆ 1.375841     │\n",
       "│ 3      ┆ 4488         ┆ 2701.0       ┆ 4512         ┆ 1128.0       ┆ 1579.0       ┆ 1.912178     │\n",
       "│ 4      ┆ 6006         ┆ 3318.0       ┆ 5994         ┆ 1463.0       ┆ 1852.071071  ┆ 2.242868     │\n",
       "│ 5      ┆ 7519         ┆ 3802.0       ┆ 7481         ┆ 1774.0       ┆ 2018.988905  ┆ 2.445007     │\n",
       "│ 6      ┆ 8983         ┆ 4160.0       ┆ 9017         ┆ 2045.0       ┆ 2122.71099   ┆ 2.570615     │\n",
       "│ 7      ┆ 10450        ┆ 4439.0       ┆ 10550        ┆ 2284.0       ┆ 2176.649289  ┆ 2.635935     │\n",
       "│ 8      ┆ 12000        ┆ 4633.0       ┆ 12000        ┆ 2450.0       ┆ 2183.0       ┆ 2.643625     │\n",
       "│ 9      ┆ 13468        ┆ 4762.0       ┆ 13532        ┆ 2593.0       ┆ 2181.263671  ┆ 2.641523     │\n",
       "│ 10     ┆ 14968        ┆ 4840.0       ┆ 15032        ┆ 2660.0       ┆ 2191.325173  ┆ 2.653707     │\n",
       "└────────┴──────────────┴──────────────┴──────────────┴──────────────┴──────────────┴──────────────┘"
      ]
     },
     "execution_count": 45,
     "metadata": {},
     "output_type": "execute_result"
    }
   ],
   "source": [
    "uplift_cumulative = uplift_cumulative.with_columns(\n",
    "    (\n",
    "        pl.col('treatment_placement_cumulative') - \n",
    "        (pl.col('control_placement_cumulative') / pl.col('control_count_cumulative')) * pl.col('treatment_count_cumulative')\n",
    "    ).alias('uplift_cumulative')\n",
    ")\n",
    "\n",
    "uplift_cumulative = uplift_cumulative.with_columns(\n",
    "    (pl.col('uplift_cumulative') / (pl.col('control_count_cumulative').sum()) * 100).alias('uplift_cumulative_percent')\n",
    ")\n",
    "uplift_cumulative"
   ]
  },
  {
   "cell_type": "code",
   "execution_count": 50,
   "metadata": {},
   "outputs": [
    {
     "data": {
      "image/png": "[encoded data removed]",
      "text/plain": [
       "<Figure size 800x600 with 1 Axes>"
      ]
     },
     "metadata": {},
     "output_type": "display_data"
    }
   ],
   "source": [
    "# Create the plot\n",
    "plt.figure(figsize=(8, 6))\n",
    "decile = uplift_cumulative['decile'].to_list()\n",
    "increment_uplift = uplift_cumulative['uplift_cumulative_percent'].to_list()\n",
    "\n",
    "# Plot line and points for incremental uplift\n",
    "plt.plot(uplift_cumulative['decile'], uplift_cumulative['uplift_cumulative_percent'], color='blue', label='Incremental Uplift', marker='o')\n",
    "\n",
    "# Add dashed line between the first and last incremental uplift values\n",
    "plt.plot([decile[0], decile[-1]], [increment_uplift[0], increment_uplift[-1]], \n",
    "         linestyle='dashed', color='green', label=\"First to Last Increment\")\n",
    "\n",
    "# Add labels and title\n",
    "plt.title(\"Incremental Uplift by Decile\")\n",
    "plt.xlabel(\"Decile\")\n",
    "plt.ylabel(\"Incremental Uplift\")\n",
    "\n",
    "# Add a legend\n",
    "plt.legend()\n",
    "\n",
    "# Display the plot\n",
    "plt.grid(True)\n",
    "plt.show()"
   ]
  }
 ],
 "metadata": {
  "kernelspec": {
   "display_name": "base",
   "language": "python",
   "name": "python3"
  },
  "language_info": {
   "codemirror_mode": {
    "name": "ipython",
    "version": 3
   },
   "file_extension": ".py",
   "mimetype": "text/x-python",
   "name": "python",
   "nbconvert_exporter": "python",
   "pygments_lexer": "ipython3",
   "version": "3.11.7"
  }
 },
 "nbformat": 4,
 "nbformat_minor": 2
}
